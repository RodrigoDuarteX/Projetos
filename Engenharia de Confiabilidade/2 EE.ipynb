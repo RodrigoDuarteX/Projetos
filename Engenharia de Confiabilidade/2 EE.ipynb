{
  "nbformat": 4,
  "nbformat_minor": 0,
  "metadata": {
    "colab": {
      "name": "Untitled1.ipynb",
      "provenance": []
    },
    "kernelspec": {
      "name": "python3",
      "display_name": "Python 3"
    }
  },
  "cells": [
    {
      "cell_type": "code",
      "metadata": {
        "id": "SnhVTi9kEQCh",
        "colab": {
          "base_uri": "https://localhost:8080/",
          "height": 187
        },
        "outputId": "5341ce9d-31db-4752-828d-9f79e21f297a"
      },
      "source": [
        "!pip install pyswarm"
      ],
      "execution_count": null,
      "outputs": [
        {
          "output_type": "stream",
          "text": [
            "Collecting pyswarm\n",
            "  Downloading https://files.pythonhosted.org/packages/79/1e/254c108b5e65c65d57a83a9a448405ea8b6a6c5c10dada8bcab4e9d9a831/pyswarm-0.6.tar.gz\n",
            "Requirement already satisfied: numpy in /usr/local/lib/python3.6/dist-packages (from pyswarm) (1.18.5)\n",
            "Building wheels for collected packages: pyswarm\n",
            "  Building wheel for pyswarm (setup.py) ... \u001b[?25l\u001b[?25hdone\n",
            "  Created wheel for pyswarm: filename=pyswarm-0.6-cp36-none-any.whl size=4481 sha256=bf0f9c22c553b1effcec4b696cd11909c093d6ce71b5e73c05fec27468c10ac1\n",
            "  Stored in directory: /root/.cache/pip/wheels/37/c5/f6/b33b9ac00040cb95c1f00af982a4197334a672d6de43f4699f\n",
            "Successfully built pyswarm\n",
            "Installing collected packages: pyswarm\n",
            "Successfully installed pyswarm-0.6\n"
          ],
          "name": "stdout"
        }
      ]
    },
    {
      "cell_type": "code",
      "metadata": {
        "id": "uKCb9TDZPvAT"
      },
      "source": [
        "#from pyswarm import pso\n",
        "import numpy as np\n",
        "import matplotlib as plt\n",
        "import math as mt\n",
        "import sys"
      ],
      "execution_count": null,
      "outputs": []
    },
    {
      "cell_type": "code",
      "metadata": {
        "id": "01c5ySNTWMQ1"
      },
      "source": [
        "dados1 = [3456, 1584, 236, 516, 1820, 452, 432, 1264, 3072, 384, 2448, 32, 360, 998, 656, 180, 244, 1528, 44, 3064, 324, 1528, 348, 336]\n",
        "dados2 = [99, 38, 109, 10, 35, 42, 31, 18, 53, 3, 12, 13, 40, 6, 78, 77, 272, 24, 66, 25, 4, 8, 26, 98, 11, 87, 11, 54, 22, 13, 54, 22, 13, 54, 22, 13, 54, 19, 47, 14, 53, 14, 35, 73, 18, 38, 140, 19, 10, 17, 4, 54, 26, 135, 44, 59, 11, 18, 3, 46, 17, 7, 75, 58, 102, 6, 53, 47, 26, 87, 6, 13]\n",
        "dados3 = [860, 1608, 1134, 2703, 645, 95, 1278, 605, 344, 1054, 680, 405, 367, 2758, 355, 1084, 855, 280, 490, 945, 105, 127, 61, 326, 300]"
      ],
      "execution_count": null,
      "outputs": []
    },
    {
      "cell_type": "code",
      "metadata": {
        "id": "n1VgJnbpX636"
      },
      "source": [
        "dadost=dados1\n",
        "somatotal = 0\n",
        "def logver (par):\n",
        "  n=len(dadost)\n",
        "\n",
        "  for i in range(1,n):\n",
        "    global somatotal\n",
        "    somaa = 0\n",
        "    itema = 0\n",
        "    itemb = 0\n",
        "    somab = 0\n",
        "    itemc = 0\n",
        "    somac = 0\n",
        "    itemb = dadost[i] \n",
        "    itemc = dadost[i]\n",
        "  \n",
        "    for j in range (0,i-1):\n",
        "      somaa = somaa + dadost[j]\n",
        "      somab = somab + dadost[j] \n",
        "      somac = somac + dadost[j] \n",
        "    itema = (((somaa*par[2])/par[0])**par[1])\n",
        "    itemb = (((itemb + (par[2]*somab))/par[0])**par[1])\n",
        "    itemc = (par[1]-1)*mt.log(itemc + (par[2]*somac))\n",
        "    somatotal = somatotal + (itema - itemb + itemc)      \n",
        "\n",
        "  veros1 = ((par[1]-1)*mt.log(dadost[0])) + (n*(mt.log(par[1])-(par[1]*mt.log(par[0])))) \n",
        "  veros2 = - ((dadost[0]/par[0])**par[1]) + somatotal\n",
        "  veros = veros1 + veros2\n",
        "  return -veros "
      ],
      "execution_count": null,
      "outputs": []
    },
    {
      "cell_type": "code",
      "metadata": {
        "id": "minT6b9vX9Zz",
        "colab": {
          "base_uri": "https://localhost:8080/",
          "height": 68
        },
        "outputId": "17830680-565d-4580-eb2d-1b77f91b1eb3"
      },
      "source": [
        "lb = [1e-2,1e-2,0] \n",
        "ub = [10000,10,1]\n",
        "abq,valor = pso(logver,lb,ub, maxiter=10000,swarmsize=25, phip=0.35, phig=0.75)\n",
        "\n",
        "print(abq)\n",
        "print(valor)"
      ],
      "execution_count": null,
      "outputs": [
        {
          "output_type": "stream",
          "text": [
            "Stopping search: maximum iterations reached --> 10000\n",
            "[1.17439828e+03 4.69760286e+00 1.10614931e-01]\n",
            "1.3576622545856732e+58\n"
          ],
          "name": "stdout"
        }
      ]
    },
    {
      "cell_type": "code",
      "metadata": {
        "id": "LkOERGF0hQak"
      },
      "source": [
        "#função log-verossimilhança para dados terminados em tempo, dados3\n",
        "n = len(dados3)\n",
        "def ln_ltt(alfa, beta, q):\n",
        "\n",
        "  soma1 = 0\n",
        "  for i in range(1, n): #como python começa do 0, o index 1 será o 2 e o 0 o 1\n",
        "    soma_int = 0\n",
        "    for j in range(0, i): #era para ter um i-1 porém o range do python só vai até o penúltimo número, então acaba dando no mesmo\n",
        "      soma_int += dados3[j]\n",
        "    soma1 += mt.log(dados3[i] + q*soma_int)\n",
        "\n",
        "  soma2 = 0\n",
        "  for k in range(0, n):\n",
        "    soma2 += dados3[k]\n",
        "\n",
        "  soma3 = 0\n",
        "  for z in range(1, n):\n",
        "    soma_int = 0\n",
        "    for t in range(0, i):\n",
        "      soma_int += dados3[t]\n",
        "    soma3 += ((((q*soma_int)/alfa)**beta) - (((dados3[z] + q*soma_int)/alfa)**beta))\n",
        "\n",
        "  x_est = abs(dados3[-1] - dados3[-2])\n",
        "\n",
        "  ln_verossimilhança_ltt = (beta - 1)*(mt.log(dados3[0]) + soma1) + n*(mt.log(beta) - beta*mt.log(alfa)) - (((x_est + q*soma2)/alfa)**beta) + (((q*soma2)**beta - dados3[0]**beta)/alfa**beta) + soma3\n",
        "\n",
        "  return -ln_verossimilhança_ltt"
      ],
      "execution_count": null,
      "outputs": []
    },
    {
      "cell_type": "code",
      "metadata": {
        "id": "YyHaBqxA5-3W"
      },
      "source": [
        "#função log-verossimilhança para dados terminados em tempo, dados3\n",
        "n = len(dados3)\n",
        "#parametros[alfa,beta,q]\n",
        "def ln_ltt(parametros):\n",
        "\n",
        "  soma1 = 0\n",
        "  for i in range(1, n): #como python começa do 0, o index 1 será o 2 e o 0 o 1\n",
        "    soma_int = 0\n",
        "    for j in range(0, i): #era para ter um i-1 porém o range do python só vai até o penúltimo número, então acaba dando no mesmo\n",
        "      soma_int += dados3[j]\n",
        "    soma1 += mt.log(dados3[i] + parametros[2]*soma_int)\n",
        "\n",
        "  soma2 = 0\n",
        "  for k in range(0, n):\n",
        "    soma2 += dados3[k]\n",
        "\n",
        "  soma3 = 0\n",
        "  for z in range(1, n):\n",
        "    soma_int = 0\n",
        "    for t in range(0, i):\n",
        "      soma_int += dados3[t]\n",
        "    soma3 += ((((parametros[2]*soma_int)/parametros[0])**parametros[1]) - (((dados3[z] + parametros[2]*soma_int)/parametros[0])**parametros[1]))\n",
        "\n",
        "  x_est = abs(dados3[-1] - dados3[-2])\n",
        "\n",
        "  ln_verossimilhança_ltt = (parametros[1] - 1)*(mt.log(dados3[0]) + soma1) + n*(mt.log(parametros[1]) - parametros[1]*mt.log(parametros[0])) - (((x_est + parametros[2]*soma2)/parametros[0])**parametros[1]) + (((parametros[2]*soma2)**parametros[1] - dados3[0]**parametros[1])/parametros[0]**parametros[1]) + soma3\n",
        "\n",
        "  return -ln_verossimilhança_ltt"
      ],
      "execution_count": null,
      "outputs": []
    },
    {
      "cell_type": "code",
      "metadata": {
        "id": "eXywyR1A_L0z"
      },
      "source": [
        "# Set-up hyperparameters\n",
        "lb =[1e-4, 1e-4, 0]\n",
        "ub = [1000, 50, 1]\n",
        "\n",
        "# Call instance of PSO\n",
        "par, optimizer2 = pso(ln_ltt, lb, ub,maxiter=10000,swarmsize=25, phip=0.75, phig=0.35)\n",
        "print(par)\n",
        "print(optimizer2)\n",
        "\n"
      ],
      "execution_count": null,
      "outputs": []
    },
    {
      "cell_type": "code",
      "metadata": {
        "id": "IUpwzbhLBZL4",
        "colab": {
          "base_uri": "https://localhost:8080/",
          "height": 34
        },
        "outputId": "5778f3f9-7ecb-4611-ac75-d7204cd272c5"
      },
      "source": [
        "2.65047998e-01"
      ],
      "execution_count": null,
      "outputs": [
        {
          "output_type": "execute_result",
          "data": {
            "text/plain": [
              "0.265047998"
            ]
          },
          "metadata": {
            "tags": []
          },
          "execution_count": 42
        }
      ]
    },
    {
      "cell_type": "markdown",
      "metadata": {
        "id": "be85orOf7DYN"
      },
      "source": [
        "Questão 8\n",
        "\n"
      ]
    },
    {
      "cell_type": "markdown",
      "metadata": {
        "id": "tzPgwX827kwO"
      },
      "source": [
        ""
      ]
    },
    {
      "cell_type": "code",
      "metadata": {
        "id": "OXk_CH3BmBUX"
      },
      "source": [
        "from random import random\n",
        "import numpy as np"
      ],
      "execution_count": null,
      "outputs": []
    },
    {
      "cell_type": "code",
      "metadata": {
        "id": "x_NzEBZF7CRe"
      },
      "source": [
        "def simulacao(dados, mc, alfa, beta, q):\n",
        "  #entrada\n",
        "  t = np.cumsum(dados)\n",
        "  t = np.insert(t, 0, 0) #v[0] = 0\n",
        "  n = len(t)\n",
        "  nf = [0]*n\n",
        "  mean_nf = [0]*n\n",
        "\n",
        "\n",
        "#caso para primeira falha\n",
        "  for j in range(0, mc):\n",
        "    tac = t[0]\n",
        "    flag = True\n",
        "    while (tac < t[1]) and (flag == True):\n",
        "      u = random()\n",
        "      x = alfa*(-mt.log(1 - u))**(1/beta)\n",
        "      if (tac + x <= t[1]):\n",
        "        tac += x\n",
        "        nf[1] = nf[1] + 1\n",
        "      else:\n",
        "        flag = False\n",
        "    mean_nf[1] = nf[1]/mc\n",
        "    \n",
        "#caso da n-ésima falha\n",
        "  for i in range(2, n):\n",
        "    for j in range(0, mc):\n",
        "      tac = t[i-1]\n",
        "      flag = True\n",
        "      while (tac < t[i]) and (flag == True):\n",
        "        u = random()\n",
        "        x = (alfa*((((q*t[i-1])/alfa)**beta) - mt.log(1 - u))**(1/beta)) - q*t[i-1]\n",
        "        print(x)\n",
        "        #print('x, i!=0', x)\n",
        "        if (tac + x <= t[i]):\n",
        "          tac += x\n",
        "          nf[i] = nf[i] + 1\n",
        "        else:\n",
        "          flag = False\n",
        "    mean_nf[i] = nf[i]/mc\n",
        "  \n",
        "  mean_nf_ac = np.cumsum(mean_nf)\n",
        "\n",
        "\n",
        "  return (mean_nf_ac)"
      ],
      "execution_count": null,
      "outputs": []
    },
    {
      "cell_type": "code",
      "metadata": {
        "id": "saAwZRfGyR5E"
      },
      "source": [
        "#simulação para ln(ltf) G1aG6\n",
        "#dados = dados1\n",
        "#alfa = 5.86027925e+02 \n",
        "#beta = 4.60985883e+01 \n",
        "#q = 4.30764267e-01\n",
        "simulacao(dados2, 1000, 123.07321506, 8.41535506e-01, 1.24161478e-01)"
      ],
      "execution_count": null,
      "outputs": []
    },
    {
      "cell_type": "code",
      "metadata": {
        "id": "KEluoVBz5co6",
        "colab": {
          "base_uri": "https://localhost:8080/"
        },
        "outputId": "e9b21fd5-8d85-479b-c194-6ea5ea05ed32"
      },
      "source": [
        "a = ''\n",
        "type(a)"
      ],
      "execution_count": null,
      "outputs": [
        {
          "output_type": "execute_result",
          "data": {
            "text/plain": [
              "str"
            ]
          },
          "metadata": {
            "tags": []
          },
          "execution_count": 6
        }
      ]
    },
    {
      "cell_type": "code",
      "metadata": {
        "id": "5GWWAnxzFRSw"
      },
      "source": [
        "import matplotlib.pyplot as plt\n",
        "import pandas as pd\n",
        "import numpy as np\n",
        "import sklearn\n",
        "from sklearn.metrics import mean_absolute_error"
      ],
      "execution_count": null,
      "outputs": []
    },
    {
      "cell_type": "code",
      "metadata": {
        "id": "My8tymcrIlgp"
      },
      "source": [
        "mean_nf_ac = [0.   , 0.552, 0.608, 0.614, 0.631, 0.679, 0.686, 0.7  , 0.727,\n",
        "       0.781, 0.785, 0.805, 0.805, 0.808, 0.822, 0.834, 0.836, 0.84 ,\n",
        "       0.86 , 0.861, 0.896, 0.899, 0.921, 0.925, 0.929]"
      ],
      "execution_count": null,
      "outputs": []
    },
    {
      "cell_type": "code",
      "metadata": {
        "id": "o0mzOkQGNFC0"
      },
      "source": [
        "#Gráfico\n",
        "\n",
        "def graf_mae(dados, mean_nf_ac):\n",
        "  #Gráfico\n",
        "  dados = np.cumsum(dados)\n",
        "  dados = np.insert(dados, 0, 0)\n",
        "  n = len(dados)\n",
        "  dados_1 = [0]*n\n",
        "  dados_1[0]= 1\n",
        "  for i in range(1, n):\n",
        "    dados_1[i] = dados_1[i] + 1\n",
        "  dados_1 = np.cumsum(dados_1)\n",
        "\n",
        "  plt.figure(figsize=(12, 6))\n",
        "  plt.plot(dados, mean_nf_ac, marker='o', label= \"Simulado\")\n",
        "  plt.plot(dados, dados_1, marker='o', label = \"Real\")\n",
        "  plt.xlabel('tempo')\n",
        "  plt.ylabel('número de falhas')\n",
        "  plt.legend()\n",
        " \n",
        "  return dados_1"
      ],
      "execution_count": null,
      "outputs": []
    },
    {
      "cell_type": "code",
      "metadata": {
        "id": "F0PjA1ZKEQaw",
        "colab": {
          "base_uri": "https://localhost:8080/",
          "height": 422
        },
        "outputId": "99a3e9b2-100f-479d-d98b-e8ac25b712fa"
      },
      "source": [
        "graf_mae(dados1, mean_nf_ac)"
      ],
      "execution_count": null,
      "outputs": [
        {
          "output_type": "execute_result",
          "data": {
            "text/plain": [
              "array([ 1,  2,  3,  4,  5,  6,  7,  8,  9, 10, 11, 12, 13, 14, 15, 16, 17,\n",
              "       18, 19, 20, 21, 22, 23, 24, 25])"
            ]
          },
          "metadata": {
            "tags": []
          },
          "execution_count": 346
        },
        {
          "output_type": "display_data",
          "data": {
            "image/png": "[encoded data removed]",
            "text/plain": [
              "<Figure size 864x432 with 1 Axes>"
            ]
          },
          "metadata": {
            "tags": [],
            "needs_background": "light"
          }
        }
      ]
    },
    {
      "cell_type": "code",
      "metadata": {
        "id": "mG97loWWnGIG"
      },
      "source": [
        "dados = np.cumsum(dados1)\n",
        "dados = np.insert(dados, 0, 0)\n",
        "n = len(dados)\n",
        "dados_1 = [0]*n\n",
        "dados_1[0]= 1\n",
        "for i in range(1, n):\n",
        "  dados_1[i] = dados_1[i] + 1\n",
        "dados_1 = np.cumsum(dados_1)"
      ],
      "execution_count": null,
      "outputs": []
    },
    {
      "cell_type": "code",
      "metadata": {
        "id": "qAhFi1GjcwCY"
      },
      "source": [
        "mae = sklearn.metrics.mean_absolute_error(dados_1, mean_nf_ac)"
      ],
      "execution_count": null,
      "outputs": []
    },
    {
      "cell_type": "code",
      "metadata": {
        "id": "0WjlyT5yeD8l",
        "colab": {
          "base_uri": "https://localhost:8080/",
          "height": 34
        },
        "outputId": "b9cc7d52-8f67-4257-da81-c5346f85a77e"
      },
      "source": [
        "mae"
      ],
      "execution_count": null,
      "outputs": [
        {
          "output_type": "execute_result",
          "data": {
            "text/plain": [
              "12.247840000000002"
            ]
          },
          "metadata": {
            "tags": []
          },
          "execution_count": 353
        }
      ]
    },
    {
      "cell_type": "markdown",
      "metadata": {
        "id": "hKPcNix07EPu"
      },
      "source": [
        "Questão 10"
      ]
    },
    {
      "cell_type": "code",
      "metadata": {
        "id": "6QvBpMkQ7Fn7"
      },
      "source": [
        "#modelo para estimação de parâmetros da PR\n",
        "def ln_ltt_PR(parametros):\n",
        "  n = len(dados2)\n",
        "\n",
        "  soma1 = 0\n",
        "  for i in range(1, n):\n",
        "    soma1 += mt.log(dados2[i])\n",
        "\n",
        "  soma2 = 0\n",
        "  for i in range(1, n):\n",
        "    soma2 += (dados2[i]/parametros[0])**parametros[1]\n",
        "\n",
        "  x_est = abs(dados2[-1] - dados2[-2])\n",
        "  ln_verossimilhança_ltt_PR = (parametros[1] - 1)*(mt.log(dados2[0]) + soma1)+ \n",
        "  n*(mt.log(parametros[1])-mt.log(parametros[0])) - ((x_est/parametros[0])**parametros[1]) \n",
        "  - ((dados2[0]/parametros[0])**parametros[1]) - soma2\n",
        "\n",
        "  return -ln_verossimilhança_ltt_PR"
      ],
      "execution_count": null,
      "outputs": []
    },
    {
      "cell_type": "code",
      "metadata": {
        "id": "8XCgQz3lBvWE",
        "colab": {
          "base_uri": "https://localhost:8080/",
          "height": 68
        },
        "outputId": "cc06a3bb-e637-423a-e66f-596a4fc7938b"
      },
      "source": [
        "lb =[1e-2, 1e-2]\n",
        "ub = [1000, 5]\n",
        "par, optimizer2 = pso(ln_ltt_PR, lb, ub,maxiter=1000,swarmsize=25, phip=0.45, phig=0.65)\n",
        "print(par)\n",
        "print(optimizer2)"
      ],
      "execution_count": null,
      "outputs": [
        {
          "output_type": "stream",
          "text": [
            "Stopping search: Swarm best objective change less than 1e-08\n",
            "[163.06155317   5.        ]\n",
            "-684.1431068073202\n"
          ],
          "name": "stdout"
        }
      ]
    },
    {
      "cell_type": "code",
      "metadata": {
        "id": "AS_dVKOepk_k"
      },
      "source": [
        "def simulacao(dados, mc, alfa, beta):\n",
        "  #entrada\n",
        "  t = np.cumsum(dados)\n",
        "  t = np.insert(t, 0, 0) #v[0] = 0\n",
        "  n = len(t)\n",
        "  nf = [0]*n\n",
        "  mean_nf = [0]*n\n",
        "\n",
        "\n",
        "#caso para primeira falha\n",
        "  for j in range(0, mc):\n",
        "    tac = t[0]\n",
        "    flag = True\n",
        "    while (tac < t[1]) and (flag == True):\n",
        "      u = random()\n",
        "      x = alfa*(-mt.log(1 - u))**(1/beta)\n",
        "      if (tac + x <= t[1]):\n",
        "        tac += x\n",
        "        nf[1] = nf[1] + 1\n",
        "      else:\n",
        "        flag = False\n",
        "    mean_nf[1] = nf[1]/mc\n",
        "    \n",
        "#caso da n-ésima falha\n",
        "  for i in range(2, n):\n",
        "    for j in range(0, mc):\n",
        "      tac = t[i-1]\n",
        "      flag = True\n",
        "      while (tac < t[i]) and (flag == True):\n",
        "        u = random()\n",
        "        x = alfa*(- mt.log(1 - u))**(1/beta)\n",
        "        print(x)\n",
        "        #print('x, i!=0', x)\n",
        "        if (tac + x <= t[i]):\n",
        "          tac += x\n",
        "          nf[i] = nf[i] + 1\n",
        "        else:\n",
        "          flag = False\n",
        "    mean_nf[i] = nf[i]/mc\n",
        "  \n",
        "  mean_nf_ac = np.cumsum(mean_nf)\n",
        "\n",
        "\n",
        "  return (mean_nf_ac)"
      ],
      "execution_count": null,
      "outputs": []
    },
    {
      "cell_type": "code",
      "metadata": {
        "id": "jsC7_JYJp9Z3"
      },
      "source": [
        "simulacao(dados2, 1000, 270.801, 0.6197)"
      ],
      "execution_count": null,
      "outputs": []
    },
    {
      "cell_type": "code",
      "metadata": {
        "id": "zPBxic0Qt92p"
      },
      "source": [
        "dados = np.cumsum(dados2)\n",
        "dados = np.insert(dados, 0, 0)\n",
        "n = len(dados)\n",
        "dados_1 = [0]*n\n",
        "dados_1[0]= 1\n",
        "for i in range(1, n):\n",
        "  dados_1[i] = dados_1[i] + 1\n",
        "dados_1 = np.cumsum(dados_1)"
      ],
      "execution_count": null,
      "outputs": []
    },
    {
      "cell_type": "code",
      "metadata": {
        "id": "ARVMfzKTuGIk"
      },
      "source": [
        "mae = sklearn.metrics.mean_absolute_error(dados_1, mean_nf_ac)"
      ],
      "execution_count": null,
      "outputs": []
    },
    {
      "cell_type": "code",
      "metadata": {
        "id": "F3gXyeXnt4mM"
      },
      "source": [
        "mean_nf_ac = [ 0.   ,  0.023,  0.04 ,  0.135,  0.143,  0.185,  0.246,  0.296,\n",
        "        0.32 ,  0.389,  0.395,  0.412,  0.433,  0.511,  0.522,  0.675,\n",
        "        0.858,  1.575,  1.652,  1.915,  1.999,  2.006,  2.038,  2.134,\n",
        "        2.491,  2.541,  2.942,  2.985,  3.211,  3.296,  3.353,  3.593,\n",
        "        3.719,  3.767,  4.025,  4.131,  4.205,  4.474,  4.583,  4.83 ,\n",
        "        4.913,  5.185,  5.262,  5.491,  5.913,  6.016,  6.22 ,  7.059,\n",
        "        7.182,  7.244,  7.361,  7.39 ,  7.715,  7.881,  8.8  ,  9.117,\n",
        "        9.527,  9.606,  9.746,  9.765, 10.11 , 10.224, 10.285, 10.861,\n",
        "       11.326, 12.12 , 12.164, 12.606, 12.991, 13.193, 13.889, 13.951,\n",
        "       14.062]"
      ],
      "execution_count": null,
      "outputs": []
    },
    {
      "cell_type": "code",
      "metadata": {
        "id": "wv1YYp9-uOZM",
        "colab": {
          "base_uri": "https://localhost:8080/",
          "height": 473
        },
        "outputId": "6294e6db-2abf-4f9b-c2b5-4824de93e7db"
      },
      "source": [
        "graf_mae(dados2, mean_nf_ac)"
      ],
      "execution_count": null,
      "outputs": [
        {
          "output_type": "execute_result",
          "data": {
            "text/plain": [
              "array([ 1,  2,  3,  4,  5,  6,  7,  8,  9, 10, 11, 12, 13, 14, 15, 16, 17,\n",
              "       18, 19, 20, 21, 22, 23, 24, 25, 26, 27, 28, 29, 30, 31, 32, 33, 34,\n",
              "       35, 36, 37, 38, 39, 40, 41, 42, 43, 44, 45, 46, 47, 48, 49, 50, 51,\n",
              "       52, 53, 54, 55, 56, 57, 58, 59, 60, 61, 62, 63, 64, 65, 66, 67, 68,\n",
              "       69, 70, 71, 72, 73])"
            ]
          },
          "metadata": {
            "tags": []
          },
          "execution_count": 386
        },
        {
          "output_type": "display_data",
          "data": {
            "image/png": "[encoded data removed]",
            "text/plain": [
              "<Figure size 864x432 with 1 Axes>"
            ]
          },
          "metadata": {
            "tags": [],
            "needs_background": "light"
          }
        }
      ]
    },
    {
      "cell_type": "code",
      "metadata": {
        "id": "zKJGiOBoutzK",
        "colab": {
          "base_uri": "https://localhost:8080/",
          "height": 34
        },
        "outputId": "e415b103-df68-4c53-b4f1-9cbf209c072d"
      },
      "source": [
        "mae"
      ],
      "execution_count": null,
      "outputs": [
        {
          "output_type": "execute_result",
          "data": {
            "text/plain": [
              "31.764068493150685"
            ]
          },
          "metadata": {
            "tags": []
          },
          "execution_count": 388
        }
      ]
    },
    {
      "cell_type": "code",
      "metadata": {
        "id": "xL9du_PeuO3f"
      },
      "source": [
        "#Gráfico\n",
        "\n",
        "def graf_mae(dados, mean_nf_ac):\n",
        "  #Gráfico\n",
        "  dados = np.cumsum(dados)\n",
        "  dados = np.insert(dados, 0, 0)\n",
        "  n = len(dados)\n",
        "  dados_1 = [0]*n\n",
        "  dados_1[0]= 1\n",
        "  for i in range(1, n):\n",
        "    dados_1[i] = dados_1[i] + 1\n",
        "  dados_1 = np.cumsum(dados_1)\n",
        "\n",
        "  plt.figure(figsize=(12, 6))\n",
        "  plt.plot(dados, mean_nf_ac, marker='o', label= \"Simulado\")\n",
        "  plt.plot(dados, dados_1, marker='o', label = \"Real\")\n",
        "  plt.xlabel('tempo')\n",
        "  plt.ylabel('número de falhas')\n",
        "  plt.legend()\n",
        " \n",
        "  return dados_1"
      ],
      "execution_count": null,
      "outputs": []
    },
    {
      "cell_type": "code",
      "metadata": {
        "id": "AHJdDVpuErgx"
      },
      "source": [
        "#modelo para estimação de parâmetros da NHPP\n",
        "def ln_ltt_NHPP(parametros):\n",
        "  n = len(dados2)\n",
        "\n",
        "  soma1 = 0\n",
        "  for i in range(1, n): \n",
        "    soma_int = 0\n",
        "    for j in range(0, i): \n",
        "      soma_int += dados2[j]\n",
        "    soma1 += mt.log(dados2[i] + soma_int)\n",
        "\n",
        "  soma2 = 0\n",
        "  for k in range(0, n):\n",
        "    soma2 += dados2[k]\n",
        "\n",
        "  soma3 = 0\n",
        "  for z in range(1, n):\n",
        "    soma_int = 0\n",
        "    for t in range(0, i):\n",
        "      soma_int += dados2[t]\n",
        "    soma3 += (((soma_int/parametros[0])**parametros[1]) - (((dados2[z] + soma_int)/parametros[0])**parametros[1]))\n",
        "\n",
        "  x_est = abs(dados2[-1] - dados2[-2])\n",
        "\n",
        "  ln_verossimilhança_ltt = (parametros[1] - 1)*(mt.log(dados2[0]) + soma1) + n*(mt.log(parametros[1]) \n",
        "  - parametros[1]*mt.log(parametros[0])) - (((x_est + parametros[2]*soma2)/parametros[0])**parametros[1]) \n",
        "  + (((parametros[2]*soma2)**parametros[1] - dados2[0]**parametros[1])/parametros[0]**parametros[1]) + soma3\n",
        "\n",
        "  return -ln_verossimilhança_ltt"
      ],
      "execution_count": null,
      "outputs": []
    },
    {
      "cell_type": "code",
      "metadata": {
        "id": "7Z803LK2ReXz"
      },
      "source": [
        "lb =[1e-2, 1e-4]\n",
        "ub = [1000, 50]\n",
        "par, optimizer2 = pso(ln_ltt_NHPP, lb, ub,maxiter=10000,swarmsize=72, phip=0.35, phig=0.75)\n",
        "print(par)\n",
        "print(optimizer2)"
      ],
      "execution_count": null,
      "outputs": []
    },
    {
      "cell_type": "code",
      "metadata": {
        "id": "zclV8_OovHE2"
      },
      "source": [
        ""
      ],
      "execution_count": null,
      "outputs": []
    },
    {
      "cell_type": "code",
      "metadata": {
        "id": "uOiUVyREvHmd"
      },
      "source": [
        "def simulacao(dados, mc, alfa, beta):\n",
        "  #entrada\n",
        "  t = np.cumsum(dados)\n",
        "  t = np.insert(t, 0, 0) #v[0] = 0\n",
        "  n = len(t)\n",
        "  nf = [0]*n\n",
        "  mean_nf = [0]*n\n",
        "\n",
        "\n",
        "#caso para primeira falha\n",
        "  for j in range(0, mc):\n",
        "    tac = t[0]\n",
        "    flag = True\n",
        "    while (tac < t[1]) and (flag == True):\n",
        "      u = random()\n",
        "      x = alfa*(-mt.log(1 - u))**(1/beta)\n",
        "      if (tac + x <= t[1]):\n",
        "        tac += x\n",
        "        nf[1] = nf[1] + 1\n",
        "      else:\n",
        "        flag = False\n",
        "    mean_nf[1] = nf[1]/mc\n",
        "    \n",
        "#caso da n-ésima falha\n",
        "  for i in range(2, n):\n",
        "    for j in range(0, mc):\n",
        "      tac = t[i-1]\n",
        "      flag = True\n",
        "      while (tac < t[i]) and (flag == True):\n",
        "        u = random()\n",
        "        x = (alfa*((((t[i-1])/alfa)**beta) - mt.log(1 - u))**(1/beta)) - t[i-1]\n",
        "        print(x)\n",
        "        #print('x, i!=0', x)\n",
        "        if (tac + x <= t[i]):\n",
        "          tac += x\n",
        "          nf[i] = nf[i] + 1\n",
        "        else:\n",
        "          flag = False\n",
        "    mean_nf[i] = nf[i]/mc\n",
        "  \n",
        "  mean_nf_ac = np.cumsum(mean_nf)\n",
        "\n",
        "\n",
        "  return (mean_nf_ac)"
      ],
      "execution_count": null,
      "outputs": []
    },
    {
      "cell_type": "code",
      "metadata": {
        "id": "bo4ot-4OvVyB"
      },
      "source": [
        "simulacao(dados2, 1000, 710.833, 1.8344)"
      ],
      "execution_count": null,
      "outputs": []
    }
  ]
}
