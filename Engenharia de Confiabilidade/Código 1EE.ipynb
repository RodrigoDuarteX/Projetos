import matplotlib.pyplot as plt
import numpy as np
import math
import scipy.stats as sp
from scipy.stats import norm

def Ra(t, a):
    return (1/math.exp(a*t))

def Rb(t, alfa, beta):
    return (1/(math.exp(t/alfa)**beta))

def Rc(t, mi, dp):
    return (1 - norm.cdf((t-mi)/dp))

a = 0.0011947
alfa = 315
beta = 2
mi = 420
dp = 133

array = np.array(range(0,1000))
Rs1 = []
for t in array:
  Rs1.append(1 - (1 - Ra(t, a)*Rb(t, alfa, beta)*Rc(t, mi, dp))**3)
Rs2 = []
for t in array:
  Rs2.append((1 - (1 - Ra(t, a))*(1 - Rb(t, alfa, beta))*(1 - Rc(t, mi, dp)))**3)

plt.plot(array, Rs2, label = 'Rs2(t)')
plt.plot(array, Rs1, label = 'Rs1(t)')
plt.title('Gráfico letra a')
plt.xlabel('t')
plt.grid(alpha=.4,linestyle='--')
plt.legend()

plt.show()

def fa(t, a):
    return (a/math.exp(a*t))

def fb(t, alfa, beta):
    return (((beta/alfa)*((t/alfa)**beta))/(math.exp(t/alfa)**beta))

def fc(t, mi, dp):
    return ((1/(math.sqrt(2*math.pi)*dp))/(math.exp(((t-mi)**2)/(2*dp**2))))

a = 0.0011947
alfa = 315
beta = 2
mi = 420
dp = 133

array = np.array(range(0,1000))
hs1 = []
for t in array:
  hs1.append((3*((1 - Ra(t, a)*Rb(t, alfa, beta)*Rc(t, mi, dp))**2)*(fa(t, a)*Rb(t, alfa, beta)*Rc(t, mi, dp)+ Ra(t, a)*fb(t, alfa, beta)*Rc(t, mi, dp)+Ra(t, a)*Rb(t, alfa, beta)*fc(t, mi, dp)))/(1 - (1 - Ra(t, a)*Rb(t, alfa, beta)*Rc(t, mi, dp))**3))
hs2 = []
for t in array:
  hs2.append(3*(fa(t, a)*(1 - Rb(t, alfa, beta))*(1 - Rc(t, mi, dp))+fb(t, alfa, beta)*(1 - Ra(t, a))*(1 - Rc(t, mi, dp))+fc(t, mi, dp)*(1 - Ra(t, a))*(1 - Rb(t, alfa, beta)))/(1 - (1 - Ra(t, a))*(1 - Rb(t, alfa, beta))*(1 - Rc(t, mi, dp))))

plt.plot(array, hs2, label = 'hs2(t)')
plt.plot(array, hs1, label = 'hs1(t)')
plt.title('Gráfico letra b')
plt.xlabel('t')
plt.grid(alpha=.4,linestyle='--')
plt.legend()

plt.show()

a = 0.0011947
alfa = 315
beta = 2
mi = 420
dp = 133
t = 150
print(1 - (1 - Ra(t, a)*Rb(t, alfa, beta)*Rc(t, mi, dp))**3)
